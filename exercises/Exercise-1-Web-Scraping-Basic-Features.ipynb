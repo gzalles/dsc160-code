{
 "cells": [
  {
   "cell_type": "markdown",
   "metadata": {},
   "source": [
    "DSC160 Data Science and the Arts - Twomey - Spring 2020 - [dsc160.roberttwomey.com](http://dsc160.roberttwomey.com)"
   ]
  },
  {
   "cell_type": "markdown",
   "metadata": {},
   "source": [
    "# Exercise 1: Reading Image Archives (Web-Scraping and Basic Features)"
   ]
  },
  {
   "cell_type": "markdown",
   "metadata": {},
   "source": [
    "This exercise takes you through the a coarse image-feature based analysis of a famous Abstract Expressionist painter, [Mark Rothko](https://www.biography.com/artist/mark-rothko). Technically, you will build a full workflow from image retrieval from an online archive -> calculation of image features -> visualization of results. Finally, it asks you to reproduce a similar result using a small image data set of your choice. \n",
    "\n",
    "The exercise is broken down into two parts:\n",
    "- [Part 1](#Part-1:-Plotting-Rothko). A replication of an analysis by the Software Studies Initiative/Lev Manovich of Mark Rothko's paintings. \n",
    "- [Part 2](#Part-2:-Extension). The second section asks you to extend this work, applying the same methods to analyze an image set (n <= 100) of your choosing. \n",
    "\n",
    "Once you have completed both parts, you will submit your completed notebook as a pdf to gradescope for grading."
   ]
  },
  {
   "cell_type": "markdown",
   "metadata": {},
   "source": [
    "## Part 1: Plotting Rothko\n",
    "(30 pts total)\n",
    "\n",
    "[Mark Rothko](https://www.biography.com/artist/mark-rothko) is a celebrated Abstract Expressionist painter known for his large color field abstractions. Some historians describe a progression towards darker, less colorful compositions over the course of his life. Here, we will recreating plots similar to the plots below from the Software Studies Initiative, showing a distribution of color and brightness within his body of work.\n",
    "\n",
    "![Rothko and Mondrian in mean brightness vs. saturation Style Space](https://live.staticflickr.com/6070/6074400716_c809d2d7a3_c_d.jpg)\n",
    "*Data: 128 paintings by Piet Mondrian (1905-1917); 123 paintings by Mark Rothko (1938-1953).\n",
    "Mapping: The two image plots are placed side by side. In each plot: X-axis: brightness mean; Y-axis: saturation mean.*\n",
    "\n",
    "From [Mondrian vs Rothko: footprints and evolution in style space](http://lab.softwarestudies.com/2011/06/mondrian-vs-rothko-footprints-and.html)"
   ]
  },
  {
   "cell_type": "markdown",
   "metadata": {},
   "source": [
    "### 1A. Retrieving Data from a Visual Archive\n",
    "(5 points)\n",
    "\n",
    "First you need to retreive images of Rothko's paintings from an online cultural archive. WikiArt has 163 of Rothko's paintings: [https://www.wikiart.org/en/mark-rothko](https://www.wikiart.org/en/mark-rothko). We will retrieve all of these images and store them locally. \n",
    "\n",
    "You can model your code on our example notebook for scraping images from WikiArt: [../examples/scrape-wikiart.ipynb](../examples/scrape-wikiart.ipynb)"
   ]
  },
  {
   "cell_type": "code",
   "execution_count": 1,
   "metadata": {
    "scrolled": false
   },
   "outputs": [
    {
     "name": "stdout",
     "output_type": "stream",
     "text": [
      "163\n"
     ]
    }
   ],
   "source": [
    "# import libraries\n",
    "from bs4 import BeautifulSoup\n",
    "import os\n",
    "import requests\n",
    "\n",
    "#set up data paths\n",
    "DATA_DIR = '../data/'\n",
    "ARTIST_URL = 'https://www.wikiart.org/en/{artist}/all-works/text-list'\n",
    "PAINTING_URL = 'https://www.wikiart.org{painting_path}'\n",
    "\n",
    "#make folder for paintings we want to download\n",
    "if not os.path.exists(DATA_DIR):\n",
    "    os.makedirs(DATA_DIR)\n",
    "    \n",
    "#get list of paintings  \n",
    "artist_name = 'mark-rothko'\n",
    "url_query = ARTIST_URL.format(artist=artist_name)\n",
    "artist_page = requests.get(url_query)\n",
    "\n",
    "# check for request error\n",
    "try:\n",
    "    artist_page.raise_for_status()\n",
    "except requests.exceptions.HTTPError as e:\n",
    "    print(\"Error trying to retrieve {}\".format(artist_page.url))\n",
    "    raise e\n",
    "    \n",
    "#call web scrapper    \n",
    "soup = BeautifulSoup(artist_page.text, 'lxml')\n",
    "\n",
    "#create image storage directory for artist if it doesn't exist \n",
    "IMAGE_DIR = os.path.join(DATA_DIR, artist_name)\n",
    "if not os.path.exists(IMAGE_DIR):\n",
    "    os.makedirs(IMAGE_DIR)\n",
    "    \n",
    "#make array for paths    \n",
    "painting_paths = []\n",
    "\n",
    "# retreive all rows in painting-list\n",
    "for li in soup.find_all('li', {'class': 'painting-list-text-row'}):\n",
    "\n",
    "    # retrieve all links in the current row\n",
    "    for link in li.find_all('a'):\n",
    "        href = link.get('href')\n",
    "        # store in dictionary\n",
    "        painting_paths.append(href)\n",
    "\n",
    "print(len(painting_paths))\n",
    "# painting_paths\n",
    "\n",
    "#store number of paintings\n",
    "num_paintings = len(painting_paths);\n",
    "\n",
    "#download\n",
    "def download_and_save(painting_url):\n",
    "    r_painting_page = requests.get(painting_url)\n",
    "    soup = BeautifulSoup(r_painting_page.text, 'lxml')\n",
    "    for img in soup.find_all('img', {'class': 'ms-zoom-cursor'}):\n",
    "        img_url = img['src']\n",
    "        img_url = img_url.split('!')[0]\n",
    "        filename = img_url.split('/')[-1]\n",
    "\n",
    "        outfile = os.path.join(IMAGE_DIR, filename)                       \n",
    "        if not os.path.exists(outfile):                        \n",
    "            print(\"downloading {}: {}\".format(filename, img_url))\n",
    "            r = requests.get(img_url, outfile)\n",
    "            with open(outfile, 'wb') as f:\n",
    "                f.write(r.content)\n",
    "        else:\n",
    "            #print(\"skipping {}\".format(filename))\n",
    "            pass\n",
    "\n",
    "#use our custom function to download paintings\n",
    "for path in painting_paths:\n",
    "    painting_path = PAINTING_URL.format(painting_path=path)\n",
    "    download_and_save(painting_path)\n"
   ]
  },
  {
   "cell_type": "markdown",
   "metadata": {},
   "source": [
    "### 1B. Calculating Basic Image Features\n",
    "(10 points)\n",
    "\n",
    "This section presumes you have already scraped/downloaded your set of images (n of approx. 160). In this section you will iterate over your downloaded images and calculate a number of image statistics, saving the results in a pandas dataframe.\n",
    "\n",
    "First, write a function `calc_stats()` that takes filename as an input and returns a list of image stats, including: \n",
    "  - image width (pixels)\n",
    "  - image height (pixels)\n",
    "  - mean hue\n",
    "  - mean saturation\n",
    "  - mean value (brightness)\n",
    "  \n",
    "(for examples of how to calculate basic image statistics, see [../examples/basic-image-stats.ipynb](../examples/basic-image-stats.ipynb))"
   ]
  },
  {
   "cell_type": "code",
   "execution_count": 2,
   "metadata": {},
   "outputs": [],
   "source": [
    "%matplotlib inline\n",
    "\n",
    "import numpy as np\n",
    "from skimage import io\n",
    "import skimage\n",
    "#import os\n",
    "#from skimage import data\n",
    "from skimage.color import rgb2hsv\n",
    "\n",
    "#img_stats = np.zeros((5, 1))\n",
    "#print(img_stats)\n",
    "\n",
    "def calc_stats(filename):\n",
    "  # function calc_stats returns width, height, hue, saturation and mean value (brightness) in an array\n",
    "    \n",
    "    #vector for our output\n",
    "    img_stats = np.zeros((5, 1))\n",
    "    \n",
    "    my_image = io.imread(filename) #read the image\n",
    "    img_stats[0] = my_image.shape[0] #get the width\n",
    "    img_stats[1] = my_image.shape[1] #get the height\n",
    "    hsv_img = rgb2hsv(my_image) #turn RGB to hue, saturation, value\n",
    "    \n",
    "    #split matrix into three rows\n",
    "    hue_img = hsv_img[:, :, 0]\n",
    "    saturation_img = hsv_img[:,:, 1]\n",
    "    value_img = hsv_img[:, :, 2]\n",
    "    \n",
    "    # get mean values from columns (brightness = mean value)\n",
    "    mean_hue = np.mean(hue_img, axis=(0,1))\n",
    "    mean_saturation = np.mean(saturation_img, axis=(0,1))\n",
    "    mean_brightness = np.mean(value_img, axis=(0,1))\n",
    "    \n",
    "    #place values in output vector\n",
    "    img_stats[2] = mean_hue\n",
    "    img_stats[3] = mean_saturation\n",
    "    img_stats[4] = mean_brightness\n",
    "    \n",
    "    return img_stats\n",
    "\n",
    "#print(img_stats)"
   ]
  },
  {
   "cell_type": "markdown",
   "metadata": {},
   "source": [
    "We want to calculate these stats for each of Rothko's paintings and store them in a pandas dataframe for plotting and analysis. Write code (using `calc_stats()` from above) to: \n",
    "- Iterate over Rothko's paintings\n",
    "- Compute these values for each image\n",
    "- Add to a dataframe\n",
    "- And write to disk as a csv (`mark-rothko.csv`)."
   ]
  },
  {
   "cell_type": "code",
   "execution_count": 3,
   "metadata": {},
   "outputs": [
    {
     "name": "stdout",
     "output_type": "stream",
     "text": [
      "../data/mark-rothko/yellow-cherry-orange.jpg\n",
      "../data/mark-rothko/ochre-and-red-on-red-1.jpg\n",
      "../data/mark-rothko/untitled-1968-1.jpg\n",
      "../data/mark-rothko/no-1-untitled.jpg\n",
      "../data/mark-rothko/untitled-7.jpg\n"
     ]
    },
    {
     "name": "stderr",
     "output_type": "stream",
     "text": [
      "/anaconda3/lib/python3.7/site-packages/skimage/color/colorconv.py:275: RuntimeWarning: divide by zero encountered in true_divide\n",
      "  out[idx, 0] = (arr[idx, 1] - arr[idx, 2]) / delta[idx]\n",
      "/anaconda3/lib/python3.7/site-packages/skimage/color/colorconv.py:283: RuntimeWarning: divide by zero encountered in true_divide\n",
      "  out[idx, 0] = 4. + (arr[idx, 0] - arr[idx, 1]) / delta[idx]\n"
     ]
    },
    {
     "name": "stdout",
     "output_type": "stream",
     "text": [
      "../data/mark-rothko/not_detected_242137.jpg\n"
     ]
    },
    {
     "name": "stderr",
     "output_type": "stream",
     "text": [
      "/anaconda3/lib/python3.7/site-packages/skimage/color/colorconv.py:269: RuntimeWarning: divide by zero encountered in true_divide\n",
      "  out_s = delta / out_v\n",
      "/anaconda3/lib/python3.7/site-packages/skimage/color/colorconv.py:279: RuntimeWarning: divide by zero encountered in true_divide\n",
      "  out[idx, 0] = 2. + (arr[idx, 2] - arr[idx, 0]) / delta[idx]\n"
     ]
    },
    {
     "name": "stdout",
     "output_type": "stream",
     "text": [
      "../data/mark-rothko/cat-newyork.jpg\n",
      "../data/mark-rothko/not_detected_242122.jpg\n",
      "../data/mark-rothko/not_detected_242136.jpg\n",
      "../data/mark-rothko/no-37-no-19-slate-blue-and-brown-on-plum-1958.jpg\n",
      "../data/mark-rothko/untitled-6(1).jpg\n",
      "../data/mark-rothko/untitled-1968-2.jpg\n",
      "../data/mark-rothko/ochre-and-red-on-red-2.jpg\n",
      "../data/mark-rothko/black-on-maroon.jpg\n",
      "../data/mark-rothko/interior.jpg\n",
      "../data/mark-rothko/not_detected_242120.jpg\n",
      "../data/mark-rothko/red-white-and-brown.jpg\n",
      "../data/mark-rothko/not_detected_242135.jpg\n",
      "../data/mark-rothko/not_detected_242121.jpg\n",
      "../data/mark-rothko/untitled-brown-and-gray.jpg\n",
      "../data/mark-rothko/untitled-5.jpg\n",
      "../data/mark-rothko/blue-and-gray.jpg\n",
      "../data/mark-rothko/untitled-1.jpg\n",
      "../data/mark-rothko/untitled-1948-2.jpg\n",
      "../data/mark-rothko/not_detected_242119.jpg\n",
      "../data/mark-rothko/not_detected_242125.jpg\n",
      "../data/mark-rothko/not_detected_242131.jpg\n",
      "../data/mark-rothko/not_detected_242124.jpg\n",
      "../data/mark-rothko/not_detected_242118.jpg\n",
      "../data/mark-rothko/sacrifice-of-iphigenia.jpg\n",
      "../data/mark-rothko/untitled-1969-1(1).jpg\n",
      "../data/mark-rothko/untitled-red-blue-orange-1955.jpg\n",
      "../data/mark-rothko/untitled-2.jpg\n",
      "../data/mark-rothko/export_dataframe.csv\n"
     ]
    },
    {
     "ename": "OSError",
     "evalue": "cannot identify image file <_io.BufferedReader name='../data/mark-rothko/export_dataframe.csv'>",
     "output_type": "error",
     "traceback": [
      "\u001b[0;31m---------------------------------------------------------------------------\u001b[0m",
      "\u001b[0;31mOSError\u001b[0m                                   Traceback (most recent call last)",
      "\u001b[0;32m<ipython-input-3-a2f52e7a222c>\u001b[0m in \u001b[0;36m<module>\u001b[0;34m\u001b[0m\n\u001b[1;32m     22\u001b[0m \u001b[0;34m\u001b[0m\u001b[0m\n\u001b[1;32m     23\u001b[0m     \u001b[0;31m#use function to read in file and calculate stats\u001b[0m\u001b[0;34m\u001b[0m\u001b[0;34m\u001b[0m\u001b[0;34m\u001b[0m\u001b[0m\n\u001b[0;32m---> 24\u001b[0;31m     \u001b[0mimg_stats\u001b[0m \u001b[0;34m=\u001b[0m \u001b[0mcalc_stats\u001b[0m\u001b[0;34m(\u001b[0m\u001b[0mfilename\u001b[0m\u001b[0;34m)\u001b[0m\u001b[0;34m\u001b[0m\u001b[0;34m\u001b[0m\u001b[0m\n\u001b[0m\u001b[1;32m     25\u001b[0m \u001b[0;34m\u001b[0m\u001b[0m\n\u001b[1;32m     26\u001b[0m     \u001b[0;31m#put img_stats into corresponding vectors (could be cleaner)\u001b[0m\u001b[0;34m\u001b[0m\u001b[0;34m\u001b[0m\u001b[0;34m\u001b[0m\u001b[0m\n",
      "\u001b[0;32m<ipython-input-2-324329d73ec5>\u001b[0m in \u001b[0;36mcalc_stats\u001b[0;34m(filename)\u001b[0m\n\u001b[1;32m     17\u001b[0m     \u001b[0mimg_stats\u001b[0m \u001b[0;34m=\u001b[0m \u001b[0mnp\u001b[0m\u001b[0;34m.\u001b[0m\u001b[0mzeros\u001b[0m\u001b[0;34m(\u001b[0m\u001b[0;34m(\u001b[0m\u001b[0;36m5\u001b[0m\u001b[0;34m,\u001b[0m \u001b[0;36m1\u001b[0m\u001b[0;34m)\u001b[0m\u001b[0;34m)\u001b[0m\u001b[0;34m\u001b[0m\u001b[0;34m\u001b[0m\u001b[0m\n\u001b[1;32m     18\u001b[0m \u001b[0;34m\u001b[0m\u001b[0m\n\u001b[0;32m---> 19\u001b[0;31m     \u001b[0mmy_image\u001b[0m \u001b[0;34m=\u001b[0m \u001b[0mio\u001b[0m\u001b[0;34m.\u001b[0m\u001b[0mimread\u001b[0m\u001b[0;34m(\u001b[0m\u001b[0mfilename\u001b[0m\u001b[0;34m)\u001b[0m \u001b[0;31m#read the image\u001b[0m\u001b[0;34m\u001b[0m\u001b[0;34m\u001b[0m\u001b[0m\n\u001b[0m\u001b[1;32m     20\u001b[0m     \u001b[0mimg_stats\u001b[0m\u001b[0;34m[\u001b[0m\u001b[0;36m0\u001b[0m\u001b[0;34m]\u001b[0m \u001b[0;34m=\u001b[0m \u001b[0mmy_image\u001b[0m\u001b[0;34m.\u001b[0m\u001b[0mshape\u001b[0m\u001b[0;34m[\u001b[0m\u001b[0;36m0\u001b[0m\u001b[0;34m]\u001b[0m \u001b[0;31m#get the width\u001b[0m\u001b[0;34m\u001b[0m\u001b[0;34m\u001b[0m\u001b[0m\n\u001b[1;32m     21\u001b[0m     \u001b[0mimg_stats\u001b[0m\u001b[0;34m[\u001b[0m\u001b[0;36m1\u001b[0m\u001b[0;34m]\u001b[0m \u001b[0;34m=\u001b[0m \u001b[0mmy_image\u001b[0m\u001b[0;34m.\u001b[0m\u001b[0mshape\u001b[0m\u001b[0;34m[\u001b[0m\u001b[0;36m1\u001b[0m\u001b[0;34m]\u001b[0m \u001b[0;31m#get the height\u001b[0m\u001b[0;34m\u001b[0m\u001b[0;34m\u001b[0m\u001b[0m\n",
      "\u001b[0;32m/anaconda3/lib/python3.7/site-packages/skimage/io/_io.py\u001b[0m in \u001b[0;36mimread\u001b[0;34m(fname, as_gray, plugin, flatten, **plugin_args)\u001b[0m\n\u001b[1;32m     60\u001b[0m \u001b[0;34m\u001b[0m\u001b[0m\n\u001b[1;32m     61\u001b[0m     \u001b[0;32mwith\u001b[0m \u001b[0mfile_or_url_context\u001b[0m\u001b[0;34m(\u001b[0m\u001b[0mfname\u001b[0m\u001b[0;34m)\u001b[0m \u001b[0;32mas\u001b[0m \u001b[0mfname\u001b[0m\u001b[0;34m:\u001b[0m\u001b[0;34m\u001b[0m\u001b[0;34m\u001b[0m\u001b[0m\n\u001b[0;32m---> 62\u001b[0;31m         \u001b[0mimg\u001b[0m \u001b[0;34m=\u001b[0m \u001b[0mcall_plugin\u001b[0m\u001b[0;34m(\u001b[0m\u001b[0;34m'imread'\u001b[0m\u001b[0;34m,\u001b[0m \u001b[0mfname\u001b[0m\u001b[0;34m,\u001b[0m \u001b[0mplugin\u001b[0m\u001b[0;34m=\u001b[0m\u001b[0mplugin\u001b[0m\u001b[0;34m,\u001b[0m \u001b[0;34m**\u001b[0m\u001b[0mplugin_args\u001b[0m\u001b[0;34m)\u001b[0m\u001b[0;34m\u001b[0m\u001b[0;34m\u001b[0m\u001b[0m\n\u001b[0m\u001b[1;32m     63\u001b[0m \u001b[0;34m\u001b[0m\u001b[0m\n\u001b[1;32m     64\u001b[0m     \u001b[0;32mif\u001b[0m \u001b[0;32mnot\u001b[0m \u001b[0mhasattr\u001b[0m\u001b[0;34m(\u001b[0m\u001b[0mimg\u001b[0m\u001b[0;34m,\u001b[0m \u001b[0;34m'ndim'\u001b[0m\u001b[0;34m)\u001b[0m\u001b[0;34m:\u001b[0m\u001b[0;34m\u001b[0m\u001b[0;34m\u001b[0m\u001b[0m\n",
      "\u001b[0;32m/anaconda3/lib/python3.7/site-packages/skimage/io/manage_plugins.py\u001b[0m in \u001b[0;36mcall_plugin\u001b[0;34m(kind, *args, **kwargs)\u001b[0m\n\u001b[1;32m    212\u001b[0m                                (plugin, kind))\n\u001b[1;32m    213\u001b[0m \u001b[0;34m\u001b[0m\u001b[0m\n\u001b[0;32m--> 214\u001b[0;31m     \u001b[0;32mreturn\u001b[0m \u001b[0mfunc\u001b[0m\u001b[0;34m(\u001b[0m\u001b[0;34m*\u001b[0m\u001b[0margs\u001b[0m\u001b[0;34m,\u001b[0m \u001b[0;34m**\u001b[0m\u001b[0mkwargs\u001b[0m\u001b[0;34m)\u001b[0m\u001b[0;34m\u001b[0m\u001b[0;34m\u001b[0m\u001b[0m\n\u001b[0m\u001b[1;32m    215\u001b[0m \u001b[0;34m\u001b[0m\u001b[0m\n\u001b[1;32m    216\u001b[0m \u001b[0;34m\u001b[0m\u001b[0m\n",
      "\u001b[0;32m/anaconda3/lib/python3.7/site-packages/skimage/io/_plugins/pil_plugin.py\u001b[0m in \u001b[0;36mimread\u001b[0;34m(fname, dtype, img_num, **kwargs)\u001b[0m\n\u001b[1;32m     34\u001b[0m     \u001b[0;32mif\u001b[0m \u001b[0misinstance\u001b[0m\u001b[0;34m(\u001b[0m\u001b[0mfname\u001b[0m\u001b[0;34m,\u001b[0m \u001b[0mstring_types\u001b[0m\u001b[0;34m)\u001b[0m\u001b[0;34m:\u001b[0m\u001b[0;34m\u001b[0m\u001b[0;34m\u001b[0m\u001b[0m\n\u001b[1;32m     35\u001b[0m         \u001b[0;32mwith\u001b[0m \u001b[0mopen\u001b[0m\u001b[0;34m(\u001b[0m\u001b[0mfname\u001b[0m\u001b[0;34m,\u001b[0m \u001b[0;34m'rb'\u001b[0m\u001b[0;34m)\u001b[0m \u001b[0;32mas\u001b[0m \u001b[0mf\u001b[0m\u001b[0;34m:\u001b[0m\u001b[0;34m\u001b[0m\u001b[0;34m\u001b[0m\u001b[0m\n\u001b[0;32m---> 36\u001b[0;31m             \u001b[0mim\u001b[0m \u001b[0;34m=\u001b[0m \u001b[0mImage\u001b[0m\u001b[0;34m.\u001b[0m\u001b[0mopen\u001b[0m\u001b[0;34m(\u001b[0m\u001b[0mf\u001b[0m\u001b[0;34m)\u001b[0m\u001b[0;34m\u001b[0m\u001b[0;34m\u001b[0m\u001b[0m\n\u001b[0m\u001b[1;32m     37\u001b[0m             \u001b[0;32mreturn\u001b[0m \u001b[0mpil_to_ndarray\u001b[0m\u001b[0;34m(\u001b[0m\u001b[0mim\u001b[0m\u001b[0;34m,\u001b[0m \u001b[0mdtype\u001b[0m\u001b[0;34m=\u001b[0m\u001b[0mdtype\u001b[0m\u001b[0;34m,\u001b[0m \u001b[0mimg_num\u001b[0m\u001b[0;34m=\u001b[0m\u001b[0mimg_num\u001b[0m\u001b[0;34m)\u001b[0m\u001b[0;34m\u001b[0m\u001b[0;34m\u001b[0m\u001b[0m\n\u001b[1;32m     38\u001b[0m     \u001b[0;32melse\u001b[0m\u001b[0;34m:\u001b[0m\u001b[0;34m\u001b[0m\u001b[0;34m\u001b[0m\u001b[0m\n",
      "\u001b[0;32m/anaconda3/lib/python3.7/site-packages/PIL/Image.py\u001b[0m in \u001b[0;36mopen\u001b[0;34m(fp, mode)\u001b[0m\n\u001b[1;32m   2655\u001b[0m         \u001b[0mwarnings\u001b[0m\u001b[0;34m.\u001b[0m\u001b[0mwarn\u001b[0m\u001b[0;34m(\u001b[0m\u001b[0mmessage\u001b[0m\u001b[0;34m)\u001b[0m\u001b[0;34m\u001b[0m\u001b[0;34m\u001b[0m\u001b[0m\n\u001b[1;32m   2656\u001b[0m     raise IOError(\"cannot identify image file %r\"\n\u001b[0;32m-> 2657\u001b[0;31m                   % (filename if filename else fp))\n\u001b[0m\u001b[1;32m   2658\u001b[0m \u001b[0;34m\u001b[0m\u001b[0m\n\u001b[1;32m   2659\u001b[0m \u001b[0;31m#\u001b[0m\u001b[0;34m\u001b[0m\u001b[0;34m\u001b[0m\u001b[0;34m\u001b[0m\u001b[0m\n",
      "\u001b[0;31mOSError\u001b[0m: cannot identify image file <_io.BufferedReader name='../data/mark-rothko/export_dataframe.csv'>"
     ]
    }
   ],
   "source": [
    "from skimage import io\n",
    "import skimage\n",
    "import os\n",
    "import pandas as pd \n",
    "\n",
    "#use num_paintings variable\n",
    "\n",
    "#use variable to keep track of row for csv file\n",
    "csv_idx = 0;\n",
    "\n",
    "w = np.zeros((num_paintings));\n",
    "h = np.zeros((num_paintings));\n",
    "mh = np.zeros((num_paintings));\n",
    "ms = np.zeros((num_paintings));\n",
    "mb = np.zeros((num_paintings));\n",
    "\n",
    "for file in os.listdir('../data/mark-rothko/'):\n",
    "    \n",
    "    filename = os.path.join('../data/mark-rothko/', file)\n",
    "    print(filename)\n",
    "    #current_img = io.imread(filename)\n",
    "    \n",
    "    #use function to read in file and calculate stats\n",
    "    img_stats = calc_stats(filename)\n",
    "    \n",
    "    #put img_stats into corresponding vectors (could be cleaner)\n",
    "    w[csv_idx] = img_stats[0]\n",
    "    h[csv_idx] = img_stats[1]\n",
    "    mh[csv_idx] = img_stats[2]\n",
    "    ms[csv_idx] = img_stats[3]\n",
    "    mb[csv_idx] = img_stats[4]\n",
    "    \n",
    "    #increment index after placing array in csv matrix \n",
    "    csv_idx = csv_idx + 1;\n",
    "\n",
    "# print(w)\n",
    "\n",
    "d = {'width': w, 'height': h, 'mean_hue': mh, 'mean_sat': ms, 'mean_bright': mb}\n",
    "df = pd.DataFrame(data=d)\n",
    "\n",
    "# w = w.transpose()\n",
    "# h = h.transpose()\n",
    "# mh = mh.transpose()\n",
    "# ms = ms.transpose()\n",
    "# mb = mb.transpose()\n",
    "# df = pd.DataFrame(np.array(w, h, mh, ms, mb), columns=['w','h','mh','ms','mb'])\n",
    "\n",
    "#not sure about the flags but this does work...\n",
    "df.to_csv(r'../data/mark-rothko/export_dataframe.csv', index = False, header = True)\n"
   ]
  },
  {
   "cell_type": "markdown",
   "metadata": {},
   "source": [
    "### 1C. Plotting Results\n",
    "(15 points)\n",
    "\n",
    "For this section we will create some simple plots with matplot lib showing distributions of image stats (mean value, hue, saturation, and resolution). Then we will produce large bitmap plots similar to Manovich's work above.\n",
    "\n",
    "(see example notebooks for plotting)"
   ]
  },
  {
   "cell_type": "code",
   "execution_count": null,
   "metadata": {},
   "outputs": [],
   "source": [
    "%matplotlib inline"
   ]
  },
  {
   "cell_type": "markdown",
   "metadata": {},
   "source": [
    "__P1. Distribution of sizes__\n",
    "\n",
    "First plot a histogram of image resolution using matplotlib and display inline."
   ]
  },
  {
   "cell_type": "code",
   "execution_count": null,
   "metadata": {},
   "outputs": [],
   "source": [
    "# import\n",
    "%matplotlib inline\n",
    "\n",
    "import numpy as np\n",
    "import pandas as pd\n",
    "import matplotlib.pyplot as plt\n",
    "\n",
    "#read the csv file using pandas\n",
    "df = pd.read_csv('../data/mark-rothko/export_dataframe.csv')\n",
    "w = df[['width']]\n",
    "w = w.values\n",
    "h = df[['height']]\n",
    "h = h.values\n",
    "\n",
    "# print(w)\n",
    "# print(h)\n",
    "\n",
    "#use single value as resolution\n",
    "#width times height\n",
    "\n",
    "#vector for our resolutions\n",
    "resolutions = np.zeros(w.size)\n",
    "\n",
    "for i in range(0, w.size-1):\n",
    "    resolutions[i] = w[i] * h[i]\n",
    "\n",
    "num_bins = 100\n",
    "\n",
    "n, bins, patches = plt.hist(resolutions, num_bins, facecolor='blue', alpha=0.5)#\n",
    "#plt.show()\n",
    "\n",
    "# print(n)\n",
    "# print(bins)\n",
    "# print(patches)\n",
    "\n",
    "plt.xlabel('Num Pixels')\n",
    "plt.ylabel('Num Paintings')\n",
    "plt.title(r'Histogram Resolution')\n",
    "# plt.plot(n, bins)\n",
    "plt.show()\n"
   ]
  },
  {
   "cell_type": "markdown",
   "metadata": {},
   "source": [
    "__P2-P4. Distribution of Mean Hue, Saturation, Value__\n",
    "\n",
    "Next plot histograms of mean hue, saturation, and value, and dislpay inline below"
   ]
  },
  {
   "cell_type": "code",
   "execution_count": null,
   "metadata": {},
   "outputs": [],
   "source": [
    "# your code for mean hue histogram\n",
    "\n",
    "# import (not sure if I have to again)\n",
    "import numpy as np\n",
    "import pandas as pd\n",
    "import matplotlib.pyplot as plt\n",
    "\n",
    "#read the csv file using pandas (not sure if i need again)\n",
    "df = pd.read_csv('../data/mark-rothko/export_dataframe.csv')\n",
    "h = df[['mean_hue']]\n",
    "hue = h.values\n",
    "\n",
    "# print(w)\n",
    "# print(h)\n",
    "\n",
    "num_bins = 100\n",
    "\n",
    "n, bins, patches = plt.hist(hue, num_bins, facecolor='blue', alpha=0.5)#\n",
    "#plt.show()\n",
    "\n",
    "# print(n)\n",
    "# print(bins)\n",
    "# print(patches)\n",
    "\n",
    "plt.xlabel('Mean Hue')\n",
    "plt.ylabel('Num Paintings')\n",
    "plt.title(r'Histogram Mean Hue')\n",
    "# plt.plot(n, bins)\n",
    "plt.show()"
   ]
  },
  {
   "cell_type": "code",
   "execution_count": null,
   "metadata": {},
   "outputs": [],
   "source": [
    "# your code for mean saturation histogram\n",
    "\n",
    "# import (not sure if I have to again)\n",
    "import numpy as np\n",
    "import pandas as pd\n",
    "import matplotlib.pyplot as plt\n",
    "\n",
    "#read the csv file using pandas (not sure if i need again)\n",
    "df = pd.read_csv('../data/mark-rothko/export_dataframe.csv')\n",
    "s = df[['mean_sat']]\n",
    "sat = s.values\n",
    "\n",
    "# print(w)\n",
    "# print(h)\n",
    "\n",
    "num_bins = 100\n",
    "\n",
    "n, bins, patches = plt.hist(sat, num_bins, facecolor='blue', alpha=0.5)#\n",
    "#plt.show()\n",
    "\n",
    "# print(n)\n",
    "# print(bins)\n",
    "# print(patches)\n",
    "\n",
    "plt.xlabel('Mean Sat')\n",
    "plt.ylabel('Num Paintings')\n",
    "plt.title(r'Histogram Mean Saturation')\n",
    "# plt.plot(n, bins)\n",
    "plt.show()\n"
   ]
  },
  {
   "cell_type": "code",
   "execution_count": null,
   "metadata": {},
   "outputs": [],
   "source": [
    "# your code for mean value histogram\n",
    "\n",
    "# import (not sure if I have to again)\n",
    "import numpy as np\n",
    "import pandas as pd\n",
    "import matplotlib.pyplot as plt\n",
    "\n",
    "#read the csv file using pandas (not sure if i need again)\n",
    "df = pd.read_csv('../data/mark-rothko/export_dataframe.csv')\n",
    "b = df[['mean_bright']]\n",
    "bright = b.values\n",
    "\n",
    "# print(w)\n",
    "# print(h)\n",
    "\n",
    "num_bins = 100\n",
    "\n",
    "n, bins, patches = plt.hist(bright, num_bins, facecolor='blue', alpha=0.5)#\n",
    "#plt.show()\n",
    "\n",
    "# print(n)\n",
    "# print(bins)\n",
    "# print(patches)\n",
    "\n",
    "plt.xlabel('Mean Brightness')\n",
    "plt.ylabel('Num Paintings')\n",
    "plt.title(r'Histogram Mean Brightness')\n",
    "# plt.plot(n, bins)\n",
    "plt.show()\n",
    "\n",
    "\n"
   ]
  },
  {
   "cell_type": "markdown",
   "metadata": {},
   "source": [
    "__P5. Scatterplot with matplotlib (mean value vs. mean hue)__\n",
    "\n",
    "Now produce a simple scatter plot of mean value against mean hue.\n",
    "\n",
    "(see example notebook on plotting)"
   ]
  },
  {
   "cell_type": "code",
   "execution_count": null,
   "metadata": {},
   "outputs": [],
   "source": [
    "# your code for scatter plot of mean_value (X) against mean_hue (Y)\n",
    "\n",
    "# import (not sure if I have to again)\n",
    "import numpy as np\n",
    "import pandas as pd\n",
    "import matplotlib.pyplot as plt\n",
    "\n",
    "#read the csv file using pandas (not sure if i need again)\n",
    "df = pd.read_csv('../data/mark-rothko/export_dataframe.csv')\n",
    "b = df[['mean_bright']]\n",
    "h = df[['mean_hue']]\n",
    "bright = b.values\n",
    "hue = h.values\n",
    "\n",
    "# print(w)\n",
    "# print(h)\n",
    "\n",
    "num_bins = 100\n",
    "\n",
    "#n, bins, patches = plt.hist(bright, num_bins, facecolor='blue', alpha=0.5)#\n",
    "#plt.show()\n",
    "\n",
    "plt.scatter(bright, hue, marker='o');\n",
    "\n",
    "# print(n)\n",
    "# print(bins)\n",
    "# print(patches)\n",
    "\n",
    "plt.xlabel('Brightness')\n",
    "plt.ylabel('Hue')\n",
    "plt.title(r'Scatter Plots Brightness v Hue')\n",
    "# plt.plot(n, bins)\n",
    "plt.show()\n"
   ]
  },
  {
   "cell_type": "markdown",
   "metadata": {},
   "source": [
    "#### P6-P7. Produce Large Bitmap Figures illustrating your results\n",
    "\n",
    "(see example notebook on producing large tiled image figures: [../examples/large_figures.ipynb](../examples/large_figures.ipynb))"
   ]
  },
  {
   "cell_type": "code",
   "execution_count": null,
   "metadata": {},
   "outputs": [],
   "source": [
    "# from skimage import io\n",
    "from PIL import Image\n",
    "import matplotlib.pyplot as plt"
   ]
  },
  {
   "cell_type": "markdown",
   "metadata": {},
   "source": [
    "##### Step 1: Generate thumbnails from full-resolution scraped images"
   ]
  },
  {
   "cell_type": "markdown",
   "metadata": {},
   "source": [
    "Write a `make_thumbnail()` function that takes a filename, imagepath, and thumbnail path as arguments"
   ]
  },
  {
   "cell_type": "code",
   "execution_count": null,
   "metadata": {},
   "outputs": [],
   "source": [
    "import glob, os\n",
    "\n",
    "#path = ../data/mark-rothko/\n",
    "\n",
    "def make_thumbnail(filename, imagepath, thumbnail_path):\n",
    "    full_path = imagepath + filename; #concatenate strings\n",
    "    my_image = Image.open(full_path) \n",
    "    size = 128, 128\n",
    "    my_image.thumbnail(size)\n",
    "    my_image.save(thumbnail_path + filename)\n",
    "    "
   ]
  },
  {
   "cell_type": "markdown",
   "metadata": {},
   "source": [
    "Create a folder to store your thumbnails"
   ]
  },
  {
   "cell_type": "code",
   "execution_count": null,
   "metadata": {},
   "outputs": [],
   "source": [
    "import os\n",
    "\n",
    "dir_name = 'thumb_rothko'\n",
    "\n",
    "try:\n",
    "    os.mkdir(dir_name)\n",
    "except FileExistsError:\n",
    "    print(\"Directory already exists\")"
   ]
  },
  {
   "cell_type": "markdown",
   "metadata": {},
   "source": [
    "Iterate over your Rothko paintings and write thumbnails to disk"
   ]
  },
  {
   "cell_type": "code",
   "execution_count": null,
   "metadata": {},
   "outputs": [],
   "source": [
    "for file in os.listdir('../data/mark-rothko/'):\n",
    "    \n",
    "    #filename = os.path.join('../data/mark-rothko/', file)\n",
    "    #print(filename)\n",
    "    #current_img = io.imread(filename)\n",
    "    if file.endswith(\".jpg\"):\n",
    "        make_thumbnail(file, '../data/mark-rothko/', 'thumb_')\n",
    "    else:\n",
    "        continue\n",
    "    "
   ]
  },
  {
   "cell_type": "markdown",
   "metadata": {},
   "source": [
    "##### Step 2: Create large plots on an empty bitmap canvas, placing thumbnails based on feature coordinates."
   ]
  },
  {
   "cell_type": "markdown",
   "metadata": {},
   "source": [
    "Make a folder to save result (`../data/mark-rothko/results`)"
   ]
  },
  {
   "cell_type": "code",
   "execution_count": null,
   "metadata": {},
   "outputs": [],
   "source": [
    "# importing os module \n",
    "import os \n",
    "  \n",
    "# Directory \n",
    "directory = \"results\"\n",
    "  \n",
    "# Parent Directory path \n",
    "parent_dir = \"../data/mark-rothko/\"\n",
    "  \n",
    "# Path \n",
    "path = os.path.join(parent_dir, directory) \n",
    "  \n",
    "# Create the directory \n",
    "# 'GeeksForGeeks' in \n",
    "# '/home / User / Documents' \n",
    "os.mkdir(path) \n",
    "print(\"Directory '% s' created\" % directory) \n",
    "      "
   ]
  },
  {
   "cell_type": "markdown",
   "metadata": {},
   "source": [
    "Plot mean value vs. mean hue with image thumbnails on large bitmap"
   ]
  },
  {
   "cell_type": "code",
   "execution_count": null,
   "metadata": {},
   "outputs": [],
   "source": [
    "import pandas as pd\n",
    "from PIL import Image\n",
    "import os\n",
    "\n",
    "# create background image\n",
    "GLOBAL_WIDTH = 7500\n",
    "bg_color = (192, 192, 192) # gray, you can choose your own\n",
    "figure = Image.new('RGB', (GLOBAL_WIDTH, GLOBAL_WIDTH), bg_color)\n",
    "\n",
    "#read the csv file using pandas\n",
    "df = pd.read_csv('../data/mark-rothko/export_dataframe.csv')\n",
    "b = df[['mean_bright']]\n",
    "b = b.values\n",
    "h = df[['mean_hue']]\n",
    "h = h.values\n",
    "\n",
    "len_list= h.size\n",
    "\n",
    "# i think there is something wrong because i have the data but \n",
    "# I dont know which values belong to which painting\n",
    "# i will assume that the file reader reads the data in the same order\n",
    "# every time \n",
    "\n",
    "idx = 0;\n",
    "\n",
    "for file in os.listdir('.'):\n",
    "    if file.endswith(\".jpg\"):\n",
    "        thumb_img = Image.open(file)\n",
    "        figure.paste(thumb_img, (b[idx]*GLOBAL_WIDTH, h[idx]*GLOBAL_WIDTH))\n",
    "        idx = idx+1\n",
    "        print(b[idx]*GLOBAL_WIDTH)\n",
    "    else:\n",
    "        continue\n",
    "        \n",
    "figure.save(\"b_h_bitmap.jpg\")\n",
    "\n",
    "# not really sure I did it right ... \n",
    "# it is definitely messy, the files are all over the place\n",
    "# I can definitely fix that. "
   ]
  },
  {
   "cell_type": "markdown",
   "metadata": {},
   "source": [
    "Produce a second plot: mean value vs mean saturation"
   ]
  },
  {
   "cell_type": "code",
   "execution_count": null,
   "metadata": {},
   "outputs": [],
   "source": [
    "import pandas as pd\n",
    "from PIL import Image\n",
    "import os\n",
    "\n",
    "# create background image\n",
    "GLOBAL_WIDTH = 7500\n",
    "bg_color = (192, 192, 192) # gray, you can choose your own\n",
    "figure = Image.new('RGB', (GLOBAL_WIDTH, GLOBAL_WIDTH), bg_color)\n",
    "\n",
    "print(\"Hello\")\n",
    "\n",
    "#read the csv file using pandas\n",
    "df = pd.read_csv('../data/mark-rothko/export_dataframe.csv')\n",
    "b = df[['mean_bright']]\n",
    "b = b.values\n",
    "s = df[['mean_sat']]\n",
    "s = s.values\n",
    "\n",
    "len_list= s.size\n",
    "\n",
    "# i think there is something wrong because i have the data but \n",
    "# I dont know which values belong to which painting\n",
    "# i will assume that the file reader reads the data in the same order\n",
    "# every time \n",
    "\n",
    "idx = 0;\n",
    "\n",
    "for file in os.listdir('.'):\n",
    "    if file.endswith(\".jpg\"):\n",
    "        thumb_img = Image.open(file)\n",
    "        figure.paste(thumb_img, (b[idx]*GLOBAL_WIDTH, s[idx]*GLOBAL_WIDTH))\n",
    "        idx = idx+1\n",
    "        print(b[idx]*GLOBAL_WIDTH)\n",
    "    else:\n",
    "        continue\n",
    "        \n",
    "figure.save(\"b_s_bitmap.jpg\")\n",
    "\n",
    "# not really sure I did it right ... \n",
    "# it is definitely messy, the files are all over the place\n",
    "# I can definitely fix that. "
   ]
  },
  {
   "cell_type": "markdown",
   "metadata": {},
   "source": [
    "Display the figures inline in this notebook"
   ]
  },
  {
   "cell_type": "code",
   "execution_count": null,
   "metadata": {},
   "outputs": [],
   "source": [
    "# your code here"
   ]
  },
  {
   "cell_type": "markdown",
   "metadata": {},
   "source": [
    "## Part 2: Extension\n",
    "(70 points total)\n",
    "\n",
    "For this part, you will repeat the above image feature summary analysis (mean brightness, mean hue) using a dataset of your choice. Your data should have approximately n <= 100 images. Your output should be a similar tiled image as produced in the previous section, along with a short paragraph describing your results and why they are interesting."
   ]
  },
  {
   "cell_type": "markdown",
   "metadata": {},
   "source": [
    " ### 2A. Scraping/downloading your new imagery\n",
    " (10 points)"
   ]
  },
  {
   "cell_type": "code",
   "execution_count": 1,
   "metadata": {},
   "outputs": [
    {
     "name": "stdout",
     "output_type": "stream",
     "text": [
      "86\n",
      "downloading going-west.jpg: https://uploads6.wikiart.org/images/jackson-pollock/going-west.jpg\n",
      "downloading figures-in-a-landscape(1).jpg: https://uploads2.wikiart.org/figures-in-a-landscape(1).jpg\n",
      "downloading landscape-with-steer-1937(2).jpg: https://uploads6.wikiart.org/landscape-with-steer-1937(2).jpg\n",
      "downloading landscape-with-steer-1937(3).jpg: https://uploads6.wikiart.org/landscape-with-steer-1937(3).jpg\n",
      "downloading the-flame-1938(1).jpg: https://uploads3.wikiart.org/the-flame-1938(1).jpg\n",
      "downloading man-with-knife-1940(1).jpg: https://uploads0.wikiart.org/man-with-knife-1940(1).jpg\n",
      "downloading circle-1941(1).jpg: https://uploads0.wikiart.org/circle-1941(1).jpg\n",
      "downloading untitled-1941(2).jpg: https://uploads8.wikiart.org/untitled-1941(2).jpg\n",
      "downloading untitled-1941(3).jpg: https://uploads8.wikiart.org/untitled-1941(3).jpg\n",
      "downloading bird-1941(1).jpg: https://uploads8.wikiart.org/bird-1941(1).jpg\n",
      "downloading mask(1).jpg: https://uploads1.wikiart.org/mask(1).jpg\n",
      "downloading sheet-of-studies-1941(1).jpg: https://uploads3.wikiart.org/sheet-of-studies-1941(1).jpg\n",
      "downloading birth(1).jpg: https://uploads3.wikiart.org/birth(1).jpg\n",
      "downloading moon-woman-1942(1).jpg: https://uploads7.wikiart.org/moon-woman-1942(1).jpg\n",
      "downloading animals-and-figures(1).jpg: https://uploads0.wikiart.org/animals-and-figures(1).jpg\n",
      "downloading male-and-female(1).jpg: https://uploads7.wikiart.org/male-and-female(1).jpg\n",
      "downloading stenographic-figure(1).jpg: https://uploads2.wikiart.org/stenographic-figure(1).jpg\n",
      "downloading untitled(4).jpg: https://uploads4.wikiart.org/untitled(4).jpg\n",
      "downloading the-she-wolf(1).jpg: https://uploads2.wikiart.org/the-she-wolf(1).jpg\n",
      "downloading blue-moby-dick(1).jpg: https://uploads6.wikiart.org/blue-moby-dick(1).jpg\n",
      "downloading composition-with-pouring-ii(1).jpg: https://uploads3.wikiart.org/composition-with-pouring-ii(1).jpg\n",
      "downloading untitled(5).jpg: https://uploads4.wikiart.org/untitled(5).jpg\n",
      "downloading mural.jpg: https://uploads1.wikiart.org/images/jackson-pollock/mural.jpg\n",
      "downloading the-moon-woman-cuts-the-circle-1943.jpg: https://uploads4.wikiart.org/images/jackson-pollock/the-moon-woman-cuts-the-circle-1943.jpg\n",
      "downloading untitled-1944(1).jpg: https://uploads0.wikiart.org/untitled-1944(1).jpg\n",
      "downloading totem-lesson-2-1945(1).jpg: https://uploads2.wikiart.org/totem-lesson-2-1945(1).jpg\n",
      "downloading pattern(1).jpg: https://uploads5.wikiart.org/pattern(1).jpg\n",
      "downloading untitled(3).jpg: https://uploads3.wikiart.org/untitled(3).jpg\n",
      "downloading eyes-in-the-heat-1946(2).jpg: https://uploads0.wikiart.org/eyes-in-the-heat-1946(2).jpg\n",
      "downloading shimmering-substance(1).jpg: https://uploads2.wikiart.org/shimmering-substance(1).jpg\n",
      "downloading the-tea-cup(1).jpg: https://uploads1.wikiart.org/the-tea-cup(1).jpg\n",
      "downloading circumcision-january(1).jpg: https://uploads0.wikiart.org/circumcision-january(1).jpg\n",
      "downloading the-key(1).jpg: https://uploads6.wikiart.org/the-key(1).jpg\n",
      "downloading pollock.jpg: https://uploads1.wikiart.org/00229/images/jackson-pollock/pollock.jpg\n",
      "downloading alchemy-1947(2).jpg: https://uploads6.wikiart.org/alchemy-1947(2).jpg\n",
      "downloading full-fathom-five(1).jpg: https://uploads6.wikiart.org/full-fathom-five(1).jpg\n",
      "downloading galaxy-1947.jpg: https://uploads7.wikiart.org/images/jackson-pollock/galaxy-1947.jpg\n",
      "downloading enchanted-forest-1947.jpg: https://uploads7.wikiart.org/images/jackson-pollock/enchanted-forest-1947.jpg\n",
      "downloading lucifer-1947.jpg: https://uploads8.wikiart.org/images/jackson-pollock/lucifer-1947.jpg\n",
      "downloading cathedral-1947.jpg: https://uploads1.wikiart.org/images/jackson-pollock/cathedral-1947.jpg\n",
      "downloading reflections-of-the-big-dipper-1947.jpg: https://uploads2.wikiart.org/images/jackson-pollock/reflections-of-the-big-dipper-1947.jpg\n",
      "downloading untitled-o-connor-thaw-770(1).jpg: https://uploads3.wikiart.org/untitled-o-connor-thaw-770(1).jpg\n",
      "downloading untitled-o-connor-thaw-771(1).jpg: https://uploads3.wikiart.org/untitled-o-connor-thaw-771(1).jpg\n",
      "downloading no-1-1948(1).jpg: https://uploads3.wikiart.org/no-1-1948(1).jpg\n",
      "downloading number-23(1).jpg: https://uploads6.wikiart.org/number-23(1).jpg\n",
      "downloading number-3(3).jpg: https://uploads6.wikiart.org/number-3(3).jpg\n",
      "downloading dc30110d-dc5a-40cd-9345-d49e74059b13.jpg: https://uploads5.wikiart.org/temp/dc30110d-dc5a-40cd-9345-d49e74059b13.jpg\n",
      "downloading number-4-gray-and-red-1948.jpg: https://uploads3.wikiart.org/images/jackson-pollock/number-4-gray-and-red-1948.jpg\n",
      "downloading number-13a-arabesque-1948.jpg: https://uploads2.wikiart.org/images/jackson-pollock/number-13a-arabesque-1948.jpg\n",
      "downloading summertime-number-9a-1948.jpg: https://uploads3.wikiart.org/images/jackson-pollock/summertime-number-9a-1948.jpg\n",
      "downloading composition-white-black-blue-and-red-on-white-1948.jpg: https://uploads0.wikiart.org/images/jackson-pollock/composition-white-black-blue-and-red-on-white-1948.jpg\n",
      "downloading number-6-1949(1).jpg: https://uploads1.wikiart.org/number-6-1949(1).jpg\n",
      "downloading number-1(1).jpg: https://uploads5.wikiart.org/number-1(1).jpg\n",
      "downloading number-8-detail(1).jpg: https://uploads4.wikiart.org/number-8-detail(1).jpg\n",
      "downloading number-3(2).jpg: https://uploads6.wikiart.org/number-3(2).jpg\n",
      "downloading number-7-out-of-the-web-1949.jpg: https://uploads6.wikiart.org/images/jackson-pollock/number-7-out-of-the-web-1949.jpg\n",
      "downloading number-10-1949.jpg: https://uploads1.wikiart.org/images/jackson-pollock/number-10-1949.jpg\n",
      "downloading number-17-1949.jpg: https://uploads0.wikiart.org/images/jackson-pollock/number-17-1949.jpg\n",
      "downloading number-12-1949.jpg: https://uploads0.wikiart.org/images/jackson-pollock/number-12-1949.jpg\n",
      "downloading number-26-1949.jpg: https://uploads0.wikiart.org/images/jackson-pollock/number-26-1949.jpg\n",
      "downloading number-48-1949.jpg: https://uploads0.wikiart.org/images/jackson-pollock/number-48-1949.jpg\n",
      "downloading number-8-1949.jpg: https://uploads0.wikiart.org/images/jackson-pollock/number-8-1949.jpg\n",
      "downloading untitled-green-silver-1949.jpg: https://uploads3.wikiart.org/images/jackson-pollock/untitled-green-silver-1949.jpg\n",
      "downloading not-detected.jpg: https://uploads4.wikiart.org/images/paul-jackson-pollock/not-detected.jpg\n",
      "downloading number-1-lavender-mist(1).jpg: https://uploads2.wikiart.org/number-1-lavender-mist(1).jpg\n",
      "downloading not_detected_185311.jpg: https://uploads6.wikiart.org/images/jackson-pollock/not_detected_185311.jpg\n",
      "downloading number-25(1).jpg: https://uploads7.wikiart.org/number-25(1).jpg\n",
      "downloading autumn-rhythm-number-30-1950.jpg: https://uploads5.wikiart.org/images/jackson-pollock/autumn-rhythm-number-30-1950.jpg\n",
      "downloading mural-on-indian-red-ground-1950.jpg: https://uploads0.wikiart.org/images/jackson-pollock/mural-on-indian-red-ground-1950.jpg\n",
      "downloading one-number-31-1950.jpg: https://uploads4.wikiart.org/images/jackson-pollock/one-number-31-1950.jpg\n",
      "downloading number-29-1950.jpg: https://uploads0.wikiart.org/images/jackson-pollock/number-29-1950.jpg\n",
      "downloading number-32-1950.jpg: https://uploads1.wikiart.org/images/jackson-pollock/number-32-1950.jpg\n",
      "downloading cri-000000162046.jpg: https://uploads2.wikiart.org/00237/images/jackson-pollock/cri-000000162046.jpg\n",
      "downloading untitled-1951(1).jpg: https://uploads0.wikiart.org/untitled-1951(1).jpg\n",
      "downloading number-14(1).jpg: https://uploads6.wikiart.org/number-14(1).jpg\n",
      "downloading number-2(1).jpg: https://uploads6.wikiart.org/number-2(1).jpg\n",
      "downloading untitled-1951-1.jpg: https://uploads2.wikiart.org/images/jackson-pollock/untitled-1951-1.jpg\n",
      "downloading black-white-number-20-1951.jpg: https://uploads4.wikiart.org/images/jackson-pollock/black-white-number-20-1951.jpg\n",
      "downloading number-4-1951.jpg: https://uploads8.wikiart.org/images/jackson-pollock/number-4-1951.jpg\n",
      "downloading blue-poles-number-11-1.jpg: https://uploads0.wikiart.org/images/jackson-pollock/blue-poles-number-11-1.jpg\n",
      "downloading convergence-1952.jpg: https://uploads3.wikiart.org/images/jackson-pollock/convergence-1952.jpg\n",
      "downloading yellow-islands(1).jpg: https://uploads3.wikiart.org/yellow-islands(1).jpg\n",
      "downloading easter-and-the-totem(1).jpg: https://uploads0.wikiart.org/easter-and-the-totem(1).jpg\n",
      "downloading the-deep-1953.jpg: https://uploads0.wikiart.org/images/jackson-pollock/the-deep-1953.jpg\n"
     ]
    },
    {
     "name": "stdout",
     "output_type": "stream",
     "text": [
      "downloading ocean-greyness-1953.jpg: https://uploads5.wikiart.org/images/jackson-pollock/ocean-greyness-1953.jpg\n",
      "downloading portrait-and-a-dream-1953.jpg: https://uploads3.wikiart.org/images/jackson-pollock/portrait-and-a-dream-1953.jpg\n"
     ]
    }
   ],
   "source": [
    "# import libraries\n",
    "from bs4 import BeautifulSoup\n",
    "import os\n",
    "import requests\n",
    "\n",
    "#set up data paths\n",
    "DATA_DIR = '../data/'\n",
    "ARTIST_URL = 'https://www.wikiart.org/en/{artist}/all-works/text-list'\n",
    "PAINTING_URL = 'https://www.wikiart.org{painting_path}'\n",
    "\n",
    "#make folder for paintings we want to download\n",
    "if not os.path.exists(DATA_DIR):\n",
    "    os.makedirs(DATA_DIR)\n",
    "    \n",
    "#get list of paintings  \n",
    "artist_name = 'jackson-pollock'\n",
    "url_query = ARTIST_URL.format(artist=artist_name)\n",
    "artist_page = requests.get(url_query)\n",
    "\n",
    "# check for request error\n",
    "try:\n",
    "    artist_page.raise_for_status()\n",
    "except requests.exceptions.HTTPError as e:\n",
    "    print(\"Error trying to retrieve {}\".format(artist_page.url))\n",
    "    raise e\n",
    "    \n",
    "#call web scrapper    \n",
    "soup = BeautifulSoup(artist_page.text, 'lxml')\n",
    "\n",
    "#create image storage directory for artist if it doesn't exist \n",
    "IMAGE_DIR = os.path.join(DATA_DIR, artist_name)\n",
    "if not os.path.exists(IMAGE_DIR):\n",
    "    os.makedirs(IMAGE_DIR)\n",
    "    \n",
    "#make array for paths    \n",
    "painting_paths = []\n",
    "\n",
    "# retreive all rows in painting-list\n",
    "for li in soup.find_all('li', {'class': 'painting-list-text-row'}):\n",
    "\n",
    "    # retrieve all links in the current row\n",
    "    for link in li.find_all('a'):\n",
    "        href = link.get('href')\n",
    "        # store in dictionary\n",
    "        painting_paths.append(href)\n",
    "\n",
    "print(len(painting_paths))\n",
    "# painting_paths\n",
    "\n",
    "#store number of paintings\n",
    "num_paintings = len(painting_paths);\n",
    "\n",
    "#download\n",
    "def download_and_save(painting_url):\n",
    "    r_painting_page = requests.get(painting_url)\n",
    "    soup = BeautifulSoup(r_painting_page.text, 'lxml')\n",
    "    for img in soup.find_all('img', {'class': 'ms-zoom-cursor'}):\n",
    "        img_url = img['src']\n",
    "        img_url = img_url.split('!')[0]\n",
    "        filename = img_url.split('/')[-1]\n",
    "\n",
    "        outfile = os.path.join(IMAGE_DIR, filename)                       \n",
    "        if not os.path.exists(outfile):                        \n",
    "            print(\"downloading {}: {}\".format(filename, img_url))\n",
    "            r = requests.get(img_url, outfile)\n",
    "            with open(outfile, 'wb') as f:\n",
    "                f.write(r.content)\n",
    "        else:\n",
    "            #print(\"skipping {}\".format(filename))\n",
    "            pass\n",
    "\n",
    "#use our custom function to download paintings\n",
    "for path in painting_paths:\n",
    "    painting_path = PAINTING_URL.format(painting_path=path)\n",
    "    download_and_save(painting_path)"
   ]
  },
  {
   "cell_type": "markdown",
   "metadata": {},
   "source": [
    "### 2B. Calculating image features\n",
    "(10 points)\n",
    "\n",
    "Model your features on the above exercise, or incorporate other stats (variance, edge count, etc.)"
   ]
  },
  {
   "cell_type": "code",
   "execution_count": null,
   "metadata": {},
   "outputs": [],
   "source": [
    "from skimage import io\n",
    "import skimage\n",
    "import os\n",
    "import pandas as pd \n",
    "\n",
    "#use num_paintings variable\n",
    "\n",
    "#use variable to keep track of row for csv file\n",
    "csv_idx = 0;\n",
    "\n",
    "w = np.zeros((num_paintings));\n",
    "h = np.zeros((num_paintings));\n",
    "mh = np.zeros((num_paintings));\n",
    "ms = np.zeros((num_paintings));\n",
    "mb = np.zeros((num_paintings));\n",
    "\n",
    "for file in os.listdir('../data/jackson-pollock/'):\n",
    "    \n",
    "    filename = os.path.join('../data/jackson-pollock/', file)\n",
    "    print(filename)\n",
    "    #current_img = io.imread(filename)\n",
    "    \n",
    "    #use function to read in file and calculate stats\n",
    "    img_stats = calc_stats(filename)\n",
    "    \n",
    "    #put img_stats into corresponding vectors (could be cleaner)\n",
    "    w[csv_idx] = img_stats[0]\n",
    "    h[csv_idx] = img_stats[1]\n",
    "    mh[csv_idx] = img_stats[2]\n",
    "    ms[csv_idx] = img_stats[3]\n",
    "    mb[csv_idx] = img_stats[4]\n",
    "    \n",
    "    #increment index after placing array in csv matrix \n",
    "    csv_idx = csv_idx + 1;\n",
    "\n",
    "# print(w)\n",
    "\n",
    "d = {'width': w, 'height': h, 'mean_hue': mh, 'mean_sat': ms, 'mean_bright': mb}\n",
    "df = pd.DataFrame(data=d)\n",
    "\n",
    "# w = w.transpose()\n",
    "# h = h.transpose()\n",
    "# mh = mh.transpose()\n",
    "# ms = ms.transpose()\n",
    "# mb = mb.transpose()\n",
    "# df = pd.DataFrame(np.array(w, h, mh, ms, mb), columns=['w','h','mh','ms','mb'])\n",
    "\n",
    "#not sure about the flags but this does work...\n",
    "df.to_csv(r'../data/jackson-pollock/export_dataframe.csv', index = False, header = True)\n"
   ]
  },
  {
   "cell_type": "markdown",
   "metadata": {},
   "source": [
    "### 2C. Produce and Display output plots (results)\n",
    "(25 points)\n",
    "\n",
    "Produce high resolution results images, and display them inline in the notebook"
   ]
  },
  {
   "cell_type": "code",
   "execution_count": null,
   "metadata": {},
   "outputs": [],
   "source": [
    "# your code here\n",
    "\n",
    "#I am not going to copy paste code here since I dont think it actually works for the bitmaps. i am not sure what is wrong.\n",
    "#all the other plots worked ok."
   ]
  },
  {
   "cell_type": "markdown",
   "metadata": {},
   "source": [
    "### 2D. Describe your Results\n",
    "(25 points)\n",
    "\n",
    "Replace the contents of the markdown cell below with a two paragraph summary of your extension work."
   ]
  },
  {
   "cell_type": "markdown",
   "metadata": {},
   "source": [
    "To be honest I didnt get to really finish and I am not sure I did it right. I am just going to most possible points. I am new to jupyter so it will take a bit to get used to it. not really sure how the namespace thing works. i miss matlab. \n",
    "\n",
    "i think the picture i got turned out ok.\n",
    "\n",
    "this is an intersting process and i am excited to do it again with other data, maybe sound based on mfcc? "
   ]
  },
  {
   "cell_type": "code",
   "execution_count": null,
   "metadata": {},
   "outputs": [],
   "source": []
  },
  {
   "cell_type": "markdown",
   "metadata": {},
   "source": [
    "## References\n",
    "\n",
    "### Additional Cultural Archives:\n",
    "* [The Getty](https://www.getty.edu/art/collection/) (The J. Paul Getty Museum, LA)\n",
    "* [The Met Collection](https://www.metmuseum.org/art/collection) (Metropolitan Museum of Art, NYC)\n",
    "* MoMA (Museum of Modern Art) online collection: [https://www.moma.org/collection/](https://www.moma.org/collection/)\n",
    "  * Our evolving collection contains almost 200,000 works of modern and contemporary art. More than 85,000 works are currently available online.\n",
    "* Metropolitan Museum of Art collection on Archive.org: [https://archive.org/details/metropolitanmuseumofart-gallery](https://archive.org/details/metropolitanmuseumofart-gallery?&sort=-downloads&page=2)\n",
    "* [MoMA exhibition images](https://www.moma.org/collection/) (showing how paintings were installed)\n",
    "   * read about it here [You Can Now Explore Every MoMA Exhibit Since 1929 for Free Online](https://mymodernmet.com/museum-of-modern-art-exhibition-history/?fbclid=IwAR3LkAPAXmDJ4C9zJn6ujfmhh2zNp6GJL9ysHTMgoKPS5ARp8jx3EklaIUk)\n",
    "* [Paul Klee notebooks](http://www.kleegestaltungslehre.zpk.org/ee/ZPK/BF/2012/01/01/001/)\n",
    "  - read about it [here](http://www.openculture.com/2016/03/3900-pages-of-paul-klees-personal-notebooks-are-now-online.html?fbclid=IwAR1_dGLxqy0YAiGuxJD2uTVUiyS0sSJuoX8iKuy_k01LWHbAYcbprNp4hd4)\n"
   ]
  },
  {
   "cell_type": "code",
   "execution_count": null,
   "metadata": {},
   "outputs": [],
   "source": []
  }
 ],
 "metadata": {
  "celltoolbar": "Raw Cell Format",
  "kernelspec": {
   "display_name": "Python 3",
   "language": "python",
   "name": "python3"
  },
  "language_info": {
   "codemirror_mode": {
    "name": "ipython",
    "version": 3
   },
   "file_extension": ".py",
   "mimetype": "text/x-python",
   "name": "python",
   "nbconvert_exporter": "python",
   "pygments_lexer": "ipython3",
   "version": "3.7.1"
  }
 },
 "nbformat": 4,
 "nbformat_minor": 2
}
